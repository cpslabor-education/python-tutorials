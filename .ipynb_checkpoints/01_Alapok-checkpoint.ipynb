{
 "cells": [
  {
   "cell_type": "markdown",
   "metadata": {},
   "source": [
    "# Python története röviden\n",
    "A Python-t 1991-ben Guido van Rossum adta ki, elsődeleges szempontjaként a kód olvashatóságát, ezáltal a programozói munka elősegítését helyezve előtérben. Az évek során a Python szerves része lett a Linux operációs rendszernek, ahol könnyedén alkalmazható rendszerautomatizálási feladatokra. Emellett, a következő kutatási területeken tett szert jelentős népszerűségre:\n",
    " - Gépi tanulás és Mesterséges Intelligencia általában\n",
    " - Bioinformatika\n",
    " - Szövegfeldolgozás\n",
    " - Robotika (pl. ROS/ROS2)\n",
    " \n",
    "A nyelv alapvetően imperatív (pl. C/C++, PASCAL) némi funkcionális elemekkel kibővítve. Adatkezelése dinamikus, újabb verziókban erős típusosság határozható, támogatja az objektumorientált megközelítést."
   ]
  },
  {
   "cell_type": "markdown",
   "metadata": {},
   "source": [
    "A Python sokáig két fő külön verzióra volt bontva, Python 2.x és Python 3.x verziókra. A Python 2 közelebb állt az eredeti nyelvstruktúrához, míg a Python 3-as jelentős változtatásokon esett keresztül új nyelvi elemekkel és vezérlési paradigmákkal (pl. coroutine, aszinkron végrehajtás) kiegészülve. Manapság azonban elmondható, hogy a Python 2.x jelentősen háttérbe szorult, a Python 3.x javára, az újabb rendszerek alapértelmezetten ezt támogatják (pl. Ubuntu 20.04)."
   ]
  },
  {
   "cell_type": "markdown",
   "metadata": {},
   "source": [
    "## Python telepítése\n",
    "A Python-t Linux alapú rendszereken egyszerű telepíteni, általában az operációs rendszerhez tartozó csomagkezelőn keresztül lehet telepíteni (pl. _apt_ vagy _yum_).\n",
    "\n",
    "Windows alatt ajánlott a Python 3.8 vagy Python 3.9 verziót vagy Chocolatey (https://chocolatey.org/) csomagkezelőn keresztül telepíteni, vagy az Anaconda disztribuciót használni (https://www.anaconda.com/products/individual). Utóbbi előnye, hogy sok gyakran használt csomag (pl. NumPy, scipy) a disztribució részének számít."
   ]
  },
  {
   "cell_type": "markdown",
   "metadata": {},
   "source": [
    "## Jó források tanuláshoz\n",
    "Mint a Python az egyik legnépszerűbb nyelv manapság, rengeteg forrás található, amely segíthet a programnyelv kellő elsajátításában. Ez a dokumentum is inkább egy összefoglalónak és egyfajta puskának tekinthető.\n",
    "\n",
    "Jó forrás például a CodeAcademy, ahol interaktív formában van lehetőség a nyelvet végig tanulni: https://www.codecademy.com/catalog/language/python"
   ]
  },
  {
   "cell_type": "markdown",
   "metadata": {},
   "source": [
    "# Python alapok\n",
    "A következő szekció nemcsak a Python alapvető használatát, de ezzel egyetemben a programozás alapjait is bemutatja. A folyamatok szemléltetéséhez UML 2 Activity és Class diagramokat használtunk."
   ]
  },
  {
   "cell_type": "markdown",
   "metadata": {},
   "source": [
    "## Alapterminológia\n",
    "- _Blokk_: egy jól elkülöníthető utasítássorozat"
   ]
  },
  {
   "cell_type": "markdown",
   "metadata": {},
   "source": [
    "## Egyszerű műveletek\n",
    "Minden imperatív programnyelv egymást követő utasítások sorozatából tevődik össze. Ezek az utasítások lehetnek:\n",
    "- Aritmetikai műveletek egyszerű adattípusok\n",
    "- Függvényhívások\n",
    "- Memóriaműveletek (adattípus példányosítása, memóriaterület felszabadítása)\n",
    "- Műveletek összetett adattípusokon (ld. operátor felüldefiniálás)\n",
    "\n",
    "Fontos tudatban tartani, hogy a Python alapvetően interpretált nyelv, vagyis minden utasítást az ökoszisztéma külön értelmez és futtat. Bár ez gyors fejlesztést tesz lehetővé, a naive implementációk egy nagyságrenddel lasabbak a fordított (compiler) programoknál (pl. C/C++, Rust). Ugyanakkor megjegyzendő, hogy sok esetben ez a teljesítménykülönbség nem látványos, mivel a Python is alapvetően C/C++ könyvtárhívásokra építkezik (pl. NumPy és Tensorflow esetében), másrészt a Python programokat gyorsítandó megoldások léteznek (pl. JIT compiler: numba)."
   ]
  },
  {
   "cell_type": "markdown",
   "metadata": {},
   "source": [
    "A legegyszerűbb dolog ami tehető, hogy kiírunk a konzolra egy szöveget, a szokásos _Hello világ!_, Pythonban így kivitelezhető:"
   ]
  },
  {
   "cell_type": "code",
   "execution_count": 1,
   "metadata": {},
   "outputs": [
    {
     "name": "stdout",
     "output_type": "stream",
     "text": [
      "Hello World\n"
     ]
    }
   ],
   "source": [
    "print(\"Hello World\")"
   ]
  },
  {
   "cell_type": "markdown",
   "metadata": {},
   "source": [
    "Látható, hogy a Python követi a függvényhívások szokásos struktúráját. A szöveget egyrészt idézőjelek (__\" \"__) között, másrészt aposztrófok (__' '__)között lehet tárolni. Hosszú többsoros szövegek három aposztróffal/idézőjellel nyitható/zátható. Példa ezekre:"
   ]
  },
  {
   "cell_type": "code",
   "execution_count": 2,
   "metadata": {},
   "outputs": [],
   "source": [
    "szoveg1 = \"Arrakis\"\n",
    "szoveg2 = 'Giedi prime'\n",
    "\n",
    "hosszu_szoveg = '''Lorem Ipsum\n",
    "\"Neque porro quisquam est qui dolorem ipsum quia dolor sit amet, consectetur, adipisci velit...\"'''"
   ]
  },
  {
   "cell_type": "markdown",
   "metadata": {},
   "source": [
    "A Python ugyanígy támogatja az alap aritmetikai műveleteket, mint:\n",
    "- Értékadás változónak\n",
    "- Összeadás\n",
    "- Kivonás\n",
    "- Szorzás\n",
    "- Osztás\n",
    "- Egész (div) osztás\n",
    "- Maradék (modulo) osztás\n",
    "- Hatványozás\n",
    "\n",
    "Az alapműveletekre mind egy példa:"
   ]
  },
  {
   "cell_type": "code",
   "execution_count": 5,
   "metadata": {},
   "outputs": [
    {
     "name": "stdout",
     "output_type": "stream",
     "text": [
      "A értéke:  5 , B értéke:  4\n",
      "Összeadás:  9\n",
      "Kivonás: 1\n",
      "Szorzás: 20\n",
      "Osztás: 1.25\n"
     ]
    }
   ],
   "source": [
    "# Értékadás\n",
    "a = 5\n",
    "b = 4\n",
    "print(\"A értéke: \", a, \", B értéke: \", b)\n",
    "# Összeadás\n",
    "sum_a_b = a + b\n",
    "print(\"Összeadás: \", sum_a_b)\n",
    "# Kivonás\n",
    "dif_a_b = a - b\n",
    "print(\"Kivonás:\", dif_a_b)\n",
    "# Szorzás\n",
    "mul_a_b = a * b\n",
    "print(\"Szorzás:\", mul_a_b)\n",
    "# Osztás\n",
    "div_a_b = a/b\n",
    "print(\"Osztás:\", div_a_b)"
   ]
  },
  {
   "cell_type": "markdown",
   "metadata": {},
   "source": [
    "További műveletekre (div, modulo, hatványozás) is egy-egy példa:"
   ]
  },
  {
   "cell_type": "code",
   "execution_count": 21,
   "metadata": {},
   "outputs": [
    {
     "name": "stdout",
     "output_type": "stream",
     "text": [
      "C div B:  4\n",
      "A div C:  2\n",
      "C mod B:  0\n",
      "A mod B:  2\n",
      "Square A:  64\n",
      "A pow C 68719476736\n",
      "2 gyöke: 1.4142135623730951\n"
     ]
    }
   ],
   "source": [
    "a = 8\n",
    "b = 3\n",
    "c = 12\n",
    "# Div\n",
    "div_c_b = c // b\n",
    "print(\"C div B: \", div_c_b)\n",
    "div_a_c = a // b\n",
    "print(\"A div C: \", div_a_c)\n",
    "# Modulo (maradékos osztás)\n",
    "mod_c_b = c % b\n",
    "print(\"C mod B: \", mod_c_b)\n",
    "mod_a_b = a % b\n",
    "print(\"A mod B: \", mod_a_b)\n",
    "# Hatványozás\n",
    "sq_a = a**2\n",
    "print(\"Square A: \", sq_a)\n",
    "pow_a_c = a**c\n",
    "print(\"A pow C\", pow_a_c)\n",
    "# Gyökvonás\n",
    "print(\"2 gyöke:\", 2**0.5)"
   ]
  },
  {
   "cell_type": "markdown",
   "metadata": {},
   "source": [
    "Természetesen lehetőség van bizonyos aritmetikai műveleteket szövegeken is elvégezni. Például az összeadással, két szöveget lehet egymáshoz illeszteni:"
   ]
  },
  {
   "cell_type": "code",
   "execution_count": 8,
   "metadata": {},
   "outputs": [
    {
     "name": "stdout",
     "output_type": "stream",
     "text": [
      "Garrus Vakarian\n"
     ]
    }
   ],
   "source": [
    "szemelynev = \"Garrus\"\n",
    "csaladnev = \"Vakarian\"\n",
    "\n",
    "fullname = szemelynev + \" \" + csaladnev\n",
    "print(fullname)"
   ]
  },
  {
   "cell_type": "markdown",
   "metadata": {},
   "source": [
    "## Logikai műveletek\n",
    "Mind minden programozáshoz (és közvetett módon digitális rendszerekhez) köthető terület, így a Python is támogatja a logikai műveleteket és kiértékeléseket, amelyek a Boole-algebrán alapulnak. Ahhoz, hogy logikai kiértékelést tudjunk tenni, egy eldöntendő kérdést kell megfogalmazni."
   ]
  },
  {
   "cell_type": "markdown",
   "metadata": {},
   "source": [
    "Matematikában a legegyszerűbb döntések az összehasonlításokhoz (kisebb-nagyobb, egyenlő) köthetőek. A Python ezek közül az összeset támogatja. Ezek eredménye egy logikai érték, ami lehet IGAZ vagy HAMIS. Például:"
   ]
  },
  {
   "cell_type": "code",
   "execution_count": 12,
   "metadata": {},
   "outputs": [
    {
     "name": "stdout",
     "output_type": "stream",
     "text": [
      "A kisebb mint B: False\n",
      "A nagyobb mint B: True\n",
      "C egyenlő B-vel:  True\n",
      "C nem egyenlő A-val:  True\n"
     ]
    }
   ],
   "source": [
    "a = 8\n",
    "b = 3\n",
    "kisebb_a_mint_b = a < b\n",
    "print(\"A kisebb mint B:\", kisebb_a_mint_b)\n",
    "nagyobb_a_mint_b = a > b\n",
    "print(\"A nagyobb mint B:\", nagyobb_a_mint_b)\n",
    "c = 3\n",
    "print(\"C egyenlő B-vel: \", c == b)\n",
    "print(\"C nem egyenlő A-val: \", c != a)"
   ]
  },
  {
   "cell_type": "markdown",
   "metadata": {},
   "source": [
    "Logikai értékeken a Python segítségével logikai műveletek végezhetők a Boole algebra szaáblyai szerint, ezek a következő művelteket jelöli:\n",
    "- NOT (NEM)\n",
    "- AND (ÉS)\n",
    "- OR (VAGY)\n",
    "\n",
    "Ezekre egy-egy példa az előzőek alapján:"
   ]
  },
  {
   "cell_type": "code",
   "execution_count": 13,
   "metadata": {},
   "outputs": [
    {
     "name": "stdout",
     "output_type": "stream",
     "text": [
      "False\n"
     ]
    }
   ],
   "source": [
    "kisebb_a_mint_b and nagyobb_a_mint_b"
   ]
  },
  {
   "cell_type": "code",
   "execution_count": 14,
   "metadata": {},
   "outputs": [
    {
     "data": {
      "text/plain": [
       "True"
      ]
     },
     "execution_count": 14,
     "metadata": {},
     "output_type": "execute_result"
    }
   ],
   "source": [
    "kisebb_a_mint_b or nagyobb_a_mint_b"
   ]
  },
  {
   "cell_type": "code",
   "execution_count": 15,
   "metadata": {},
   "outputs": [
    {
     "data": {
      "text/plain": [
       "True"
      ]
     },
     "execution_count": 15,
     "metadata": {},
     "output_type": "execute_result"
    }
   ],
   "source": [
    "not kisebb_a_mint_b"
   ]
  },
  {
   "cell_type": "markdown",
   "metadata": {},
   "source": [
    "## Függvények\n",
    "A Python-ban ezek alapján már lehetséges saját függvényeket írni. A függvény egy alap építőelem, ami utasítássorozatok újrahasznosításának egyik legalapvetőbb módja. Vegyük például a háromszög kerületének kiszámítását, amit egyszerű összeadással tehetünk meg. A függvény definiálása Pythonban a következő módon tehető meg:"
   ]
  },
  {
   "cell_type": "code",
   "execution_count": 17,
   "metadata": {},
   "outputs": [],
   "source": [
    "def perimeter_triangle(a, b, c):\n",
    "    perimeter = a + b + c\n",
    "    return perimeter"
   ]
  },
  {
   "cell_type": "markdown",
   "metadata": {},
   "source": [
    "Függvények esetében a következő terminológiát érdemes tisztázni. A függvényszignatúra határozza meg, a függvényhívás módját, vagyis tartalmazza a függvény nevét és a bemeneti argumentumokat. Tehát a kerület számítása a szignatúrára támaszkodva meghívható:"
   ]
  },
  {
   "cell_type": "code",
   "execution_count": 18,
   "metadata": {},
   "outputs": [
    {
     "name": "stdout",
     "output_type": "stream",
     "text": [
      "A háromszög kerülete: 10.7\n"
     ]
    }
   ],
   "source": [
    "a = 3.4\n",
    "b = 2.7\n",
    "c = 4.6\n",
    "s = perimeter_triangle(a, b, c)\n",
    "print(\"A háromszög kerülete:\", s)"
   ]
  },
  {
   "cell_type": "markdown",
   "metadata": {},
   "source": [
    "Érdekesség - és sokszor hasznos -, hogy Pythonban lehetőség van többértékű visszatérésre. Ekkor a visszatérési érték egy n-típus, ami tömbökhöz hasonlóan sturkturált forma (ld. később). Ezt demonstrálható például az előbbi függvény kiegészítése a terület számításával (ld. Héron-képlete):"
   ]
  },
  {
   "cell_type": "code",
   "execution_count": 22,
   "metadata": {},
   "outputs": [],
   "source": [
    "def perimeter_area_triangle(a, b, c):\n",
    "    perimeter = a + b + c\n",
    "    s = perimeter/2.0\n",
    "    A = (s*(s - a)*(s - b)*(s - c))**0.5\n",
    "    return s, A"
   ]
  },
  {
   "cell_type": "code",
   "execution_count": 23,
   "metadata": {},
   "outputs": [
    {
     "name": "stdout",
     "output_type": "stream",
     "text": [
      "Haromszog kerulete:  6.0\n",
      "Haromszog kerulete:  6.0\n"
     ]
    }
   ],
   "source": [
    "a = 3\n",
    "b = 4\n",
    "c = 5\n",
    "kerulet, terulet = perimeter_area_triangle(a, b, c)\n",
    "print(\"Haromszog kerulete: \", kerulet)\n",
    "print(\"Haromszog kerulete: \", terulet)"
   ]
  },
  {
   "cell_type": "markdown",
   "metadata": {},
   "source": [
    "### Kiíratás format segítségével"
   ]
  },
  {
   "cell_type": "markdown",
   "metadata": {},
   "source": [
    "A _format_ függvény segítségével lehetőség van szövegekben behelyettesítést alkalmazni. Ez különösen hasznos lehet, ha egyszerre több értéket szeretnénk kiiratni, ezáltal egy jól olvasható formában lehet leírni a kódot. A háromszögeknél maradva, az eredményt a format függvény segítségével kiírhatjuk a következő módon:"
   ]
  },
  {
   "cell_type": "code",
   "execution_count": 25,
   "metadata": {},
   "outputs": [
    {
     "name": "stdout",
     "output_type": "stream",
     "text": [
      "A 3, 4, 5 oldalú haromszog kerulete: 6.0 és területe: 6.0\n"
     ]
    }
   ],
   "source": [
    "print(\"A {0}, {1}, {2} oldalú haromszog kerulete: {3} és területe: {4}\".format(a, b, c, kerulet, terulet))"
   ]
  },
  {
   "cell_type": "markdown",
   "metadata": {},
   "source": [
    "## Vezérlési struktúrák\n",
    "A vezérlési struktúrák minden imperatív nyelvben megjelennek, mint alap építő elemek. Ezek közül a következő vezérlési struktúrák tekinthetők alapvetőnek:\n",
    "- Elágazások (IF-ELSE)\n",
    "- Ciklusok (FOR, WHILE)\n",
    "\n",
    "A vezérlési struktúrák egymásba ágyazhatók. Vagyis egy elágazás tartalmazhat több elgazást vagy ciklust és vice-versa."
   ]
  },
  {
   "cell_type": "markdown",
   "metadata": {},
   "source": [
    "Kezdjük először az elágazással. Ez tulajdonképpen egy logikai kiértékelést tesz, ami alapján az adott blokk utasításai hajtódnak végre. A mögöttes logikát jól illusztrálja a következő folyamatábra:\n",
    "![alt text](media/ifelse.png \"Elágazás (IF-ELSE)\")\n",
    "Maradva a háromszögeknél mint illusztratív példánál, tegyük fel, hogy szeretnénk három oldal alapján eldönteni, hogy az egy derékszögű háromszöget reprezentál-e. Ennek ellenőrzését természetesen a Pitagorasz-tétel segítségével tehetjük meg. Ehhez tartozó függvény:"
   ]
  },
  {
   "cell_type": "code",
   "execution_count": 26,
   "metadata": {},
   "outputs": [],
   "source": [
    "def pitagorasz(a, b, c):\n",
    "    return a**2 + b **2 == c**2"
   ]
  },
  {
   "cell_type": "markdown",
   "metadata": {},
   "source": [
    "Látható, hogy a függvény egy logikai értékkel fog visszatérni. Ezután a függvény felhasználható döntéshozatalra egy elágazásban:"
   ]
  },
  {
   "cell_type": "code",
   "execution_count": 27,
   "metadata": {},
   "outputs": [
    {
     "name": "stdout",
     "output_type": "stream",
     "text": [
      "Derékszögű a 3, 4, 5 háromszög\n"
     ]
    }
   ],
   "source": [
    "a = 3\n",
    "b = 4\n",
    "c = 5\n",
    "if pitagorasz(a,b,c):\n",
    "    print(\"Derékszögű a {0}, {1}, {2} háromszög\".format(a,b,c))\n",
    "else:\n",
    "    print(\"Nem derékszögű a {0}, {1}, {2} háromszög\".format(a,b,c))"
   ]
  },
  {
   "cell_type": "markdown",
   "metadata": {},
   "source": [
    "Az hamis kiértékelés (ELSE ág) bemutatása egy nem derékszögű háromszögön:"
   ]
  },
  {
   "cell_type": "code",
   "execution_count": 28,
   "metadata": {},
   "outputs": [
    {
     "name": "stdout",
     "output_type": "stream",
     "text": [
      "Nem derékszögű a 3, 4, 6 háromszög\n"
     ]
    }
   ],
   "source": [
    "a = 3\n",
    "b = 4\n",
    "c = 6\n",
    "if pitagorasz(a,b,c):\n",
    "    print(\"Derékszögű a {0}, {1}, {2} háromszög\".format(a,b,c))\n",
    "else:\n",
    "    print(\"Nem derékszögű a {0}, {1}, {2} háromszög\".format(a,b,c))"
   ]
  },
  {
   "cell_type": "markdown",
   "metadata": {},
   "source": [
    "Lehetőség van több kiértékelések láncolatának kezelésére. Ezt a folyamatot jól illusztrálja a következő folyamatábra:\n",
    "![alt text](elif.png \"Elágazás (IF-ELSE)\")\n",
    "Tehát egy kiértékelés során lehetőség van N különböző eset kiértékelésére. Például maradva a háromszögeknél, szeretnénk ellenőrizni, hogy amennyiben nem derékszögű háromszögről beszélünk, akkor tompaszögű háromszögünk van, vagy végső esetben hegyesszögű háromszögről. Ezt egyszerűen ellenőrizhetjük, felhasználva, hogy a két rövidebb oldal négyzetes összege kisebb, mint a leghosszabb oldal négyzete. Ennek ellenőrzésére definiáljunk egy függvényt:"
   ]
  },
  {
   "cell_type": "code",
   "execution_count": 29,
   "metadata": {},
   "outputs": [],
   "source": [
    "def tompaszog(a,b,c):\n",
    "    return a**2 + b**2 < c**2"
   ]
  },
  {
   "cell_type": "markdown",
   "metadata": {},
   "source": [
    "Így kiegészíthető a fenti elágazásunk:"
   ]
  },
  {
   "cell_type": "code",
   "execution_count": 31,
   "metadata": {},
   "outputs": [
    {
     "name": "stdout",
     "output_type": "stream",
     "text": [
      "Tompaszögű a 3, 4, 6 háromszög\n"
     ]
    }
   ],
   "source": [
    "a = 3\n",
    "b = 4\n",
    "c = 6\n",
    "if pitagorasz(a,b,c):\n",
    "    print(\"Derékszögű a {0}, {1}, {2} háromszög\".format(a,b,c))\n",
    "elif tompaszog(a,b,c):\n",
    "    print(\"Tompaszögű a {0}, {1}, {2} háromszög\".format(a,b,c))\n",
    "else:\n",
    "    print(\"Hegyesszögű a {0}, {1}, {2} háromszög\".format(a,b,c))"
   ]
  },
  {
   "cell_type": "markdown",
   "metadata": {},
   "source": [
    "Lássunk egy példát az egymásba ágyazásra is! Mielőtt bármit kezdenénk, egy háromszöggel, szeretnénk megvizsgálni, hogy egyáltalán teljesíti-e a háromszög egyenlőtlenséget, mint a háromszögek szükséges feltételét. Ehhez ismételten írjunk egy függvényt:"
   ]
  },
  {
   "cell_type": "code",
   "execution_count": 32,
   "metadata": {},
   "outputs": [],
   "source": [
    "def is_triangle(a,b,c):\n",
    "    return a + b > c and a + c > b and b + c > a"
   ]
  },
  {
   "cell_type": "markdown",
   "metadata": {},
   "source": [
    "Ezután a korábbi elágazást egészítsük ki, hogy ellenőrizzük a háromszög egyenlőtlenség teljesülését:"
   ]
  },
  {
   "cell_type": "code",
   "execution_count": 35,
   "metadata": {},
   "outputs": [
    {
     "name": "stdout",
     "output_type": "stream",
     "text": [
      "Tompaszögű a 3, 4, 6 háromszög\n"
     ]
    }
   ],
   "source": [
    "a = 3\n",
    "b = 4\n",
    "c = 6\n",
    "if is_triangle(a,b,c):\n",
    "    if pitagorasz(a,b,c):\n",
    "        print(\"Derékszögű a {0}, {1}, {2} háromszög\".format(a,b,c))\n",
    "    elif tompaszog(a,b,c):\n",
    "        print(\"Tompaszögű a {0}, {1}, {2} háromszög\".format(a,b,c))\n",
    "    else:\n",
    "        print(\"Hegyesszögű a {0}, {1}, {2} háromszög\".format(a,b,c))\n",
    "else:\n",
    "    print(\"Nem teljesül a háromszög egyenlőtlenség, {0}, {1}, {2} nem reprezentál háromszöget!\".format(a, b, c))"
   ]
  },
  {
   "cell_type": "markdown",
   "metadata": {},
   "source": [
    "### Ciklusok\n",
    "A ciklusok a ciklusfeltél teljesüléséig ismtélődő folyamatok leírására alkalmas vezérlési struktúrák (pongyolán megfogalmazva: _csináld addig, ameddig a feltétel teljesül_). A Pythonban jelentős különbség van logikailag is a két fő ciklusfajta között:\n",
    "- Elöltesztelő ciklus (WHILE ciklus)\n",
    "- Számláló ciklus (FOR ciklus)/Iteráció\n",
    "\n",
    "Mivel előbbi, a WHILE ciklus egy feltétel teljesüléséig futtatja a ciklusban meghatározott kódblokkot. Ezzel szemben a FOR ciklus iterációt jelöl: egy adatstruktúra elemein iterálva hajt végre utasításokat. Fotnos, hogy a while ciklus körülbelül úgy fordítható, hogy \"hajtsd végre, ameddig a ciklusfeltétel teljesül\". Tehát sokszor egyszerűbb a ciklusfeltétel tagadását felírni.\n",
    "\n",
    "Példa a WHILE ciklusra, amely addig növeli egy háromszög oldalát 0-ról indulva, míg az nem ad ki egy megfelelő háromszöget:"
   ]
  },
  {
   "cell_type": "code",
   "execution_count": 38,
   "metadata": {},
   "outputs": [
    {
     "name": "stdout",
     "output_type": "stream",
     "text": [
      "1\n",
      "2\n",
      "Háromszög: 3, 4, 2\n"
     ]
    }
   ],
   "source": [
    "a = 3\n",
    "b = 4\n",
    "c = 0\n",
    "while not is_triangle(a,b,c):\n",
    "    c += 1\n",
    "    print(c)\n",
    "print(\"Háromszög: {0}, {1}, {2}\".format(a,b,c))"
   ]
  },
  {
   "cell_type": "markdown",
   "metadata": {},
   "source": [
    "Ezzel szemben, a for ciklus például a következőképpen definiálható. Szükséges ehhez egy folyamatosan növekvő tartománystruktúrát definiálni:"
   ]
  },
  {
   "cell_type": "code",
   "execution_count": 39,
   "metadata": {},
   "outputs": [
    {
     "name": "stdout",
     "output_type": "stream",
     "text": [
      "Számláló: 0\n",
      "Számláló: 1\n",
      "Számláló: 2\n",
      "Számláló: 3\n",
      "Számláló: 4\n",
      "Számláló: 5\n",
      "Számláló: 6\n",
      "Számláló: 7\n",
      "Számláló: 8\n",
      "Számláló: 9\n"
     ]
    }
   ],
   "source": [
    "for i in range(10):\n",
    "    print(\"Számláló: {0}\".format(i))"
   ]
  },
  {
   "cell_type": "markdown",
   "metadata": {},
   "source": [
    "Látható, hogy a ciklus (n-1) értékig számol és hajt végre utasításokat (ami esetünkben kiiratás). Nézzük meg jobban mit takar a range(10):"
   ]
  },
  {
   "cell_type": "code",
   "execution_count": 40,
   "metadata": {},
   "outputs": [
    {
     "name": "stdout",
     "output_type": "stream",
     "text": [
      "range(0, 10)\n"
     ]
    }
   ],
   "source": [
    "print(range(10))"
   ]
  },
  {
   "cell_type": "markdown",
   "metadata": {},
   "source": [
    "Ez egy beépített adatstruktúra! Ha átalakítjuk, listává, látható, hogy ebben fel vannak sorolva az értékek 0-tól 9-ig:"
   ]
  },
  {
   "cell_type": "code",
   "execution_count": 41,
   "metadata": {},
   "outputs": [
    {
     "name": "stdout",
     "output_type": "stream",
     "text": [
      "[0, 1, 2, 3, 4, 5, 6, 7, 8, 9]\n"
     ]
    }
   ],
   "source": [
    "print(list(range(10)))"
   ]
  },
  {
   "cell_type": "markdown",
   "metadata": {},
   "source": [
    "Természtesen az intervallum megadható más kezdőértéktől is:"
   ]
  },
  {
   "cell_type": "code",
   "execution_count": 42,
   "metadata": {},
   "outputs": [
    {
     "name": "stdout",
     "output_type": "stream",
     "text": [
      "[6, 7, 8, 9, 10, 11, 12, 13, 14, 15, 16, 17, 18]\n"
     ]
    }
   ],
   "source": [
    "print(list(range(6, 19)))"
   ]
  },
  {
   "cell_type": "markdown",
   "metadata": {},
   "source": [
    "És más inkrementummal is (ebben az esetben 3-al léptetjük az értékeket):"
   ]
  },
  {
   "cell_type": "code",
   "execution_count": 43,
   "metadata": {},
   "outputs": [
    {
     "name": "stdout",
     "output_type": "stream",
     "text": [
      "[6, 9, 12, 15, 18]\n"
     ]
    }
   ],
   "source": [
    "print(list(range(6, 19, 3)))"
   ]
  },
  {
   "cell_type": "markdown",
   "metadata": {},
   "source": [
    "### Alapvető adatstuktúrák\n",
    "A Pythonban alapból a következő alapvető adatstruktúrák érhetőek el:\n",
    "- Lista (list)\n",
    "- Halmaz (Set)\n",
    "- Szótár (Dictionary)\n",
    "\n",
    "Ezeken az adatstruktúrákon a következő műveletek hajthatóak végre:\n",
    "- Elem hozzáadása\n",
    "- Elem eltávolítása\n",
    "- Elem hozzátartozásának ellenőrzése\n",
    "- Hozzáférés egy elemhez\n",
    "- Elem módosítása\n",
    "\n",
    "A legegyszerűbb adatstuktúra a lista. Amellett, hogy egyszerűen kezelhető (könnyű hozzáadni/módosítani/törölni elemeket), érdemes tudatban tartani, hogy algoritmikus tekintetben egy láncolt listáról van szó. Vagyis bizonyos műveletek, mint az eltávolítás, hozzáférés, módosítás nagyon nagy elemszámnál jelentős időt vehet igénybe. Python esetében egyébként egy listában bármilyen típus elhelyezhető, természetesen ezt érdemes ésszerűen kezelni."
   ]
  },
  {
   "cell_type": "markdown",
   "metadata": {},
   "source": [
    "Nézzünk listára egy példát. A következőben explicit hozunk létre egy listát:"
   ]
  },
  {
   "cell_type": "code",
   "execution_count": 46,
   "metadata": {},
   "outputs": [
    {
     "name": "stdout",
     "output_type": "stream",
     "text": [
      "[1.6, 7.8, 3.7]\n"
     ]
    }
   ],
   "source": [
    "list1 = [1.6, 7.8, 3.7]\n",
    "print(list1)"
   ]
  },
  {
   "cell_type": "markdown",
   "metadata": {},
   "source": [
    "A korábban látott példának megfelelően a lista létrehozható egy bizonyos intervallumon az alábbi módon is:"
   ]
  },
  {
   "cell_type": "code",
   "execution_count": 47,
   "metadata": {},
   "outputs": [],
   "source": [
    "list_interval = list(range(5, 19, 2))"
   ]
  },
  {
   "cell_type": "markdown",
   "metadata": {},
   "source": [
    "Ellenőrizzük, hogy bizonyos elemek, benne vannak-e valamelyik listánkban!"
   ]
  },
  {
   "cell_type": "code",
   "execution_count": 48,
   "metadata": {},
   "outputs": [
    {
     "name": "stdout",
     "output_type": "stream",
     "text": [
      "5 benne van a listában:  True\n",
      "8 benne van a listában:  False\n"
     ]
    }
   ],
   "source": [
    "print(\"5 benne van a listában: \", 5 in list_interval)\n",
    "print(\"8 benne van a listában: \", 8 in list_interval)"
   ]
  },
  {
   "cell_type": "markdown",
   "metadata": {},
   "source": [
    "Elemet bármely listához hozzáadhatunk, például az alábbi módon:"
   ]
  },
  {
   "cell_type": "code",
   "execution_count": 51,
   "metadata": {},
   "outputs": [
    {
     "name": "stdout",
     "output_type": "stream",
     "text": [
      "[1.6, 7.8, 3.7, 1.9]\n"
     ]
    }
   ],
   "source": [
    "list1.append(1.9)\n",
    "print(list1)"
   ]
  },
  {
   "cell_type": "markdown",
   "metadata": {},
   "source": [
    "Vagyis látható, hogy ezzel a lista végéhez hozzáillesztettünk egy új elemet. Elemet ugyanígy távolíthatunk el, vagyis hivatkozunk az értékre:"
   ]
  },
  {
   "cell_type": "code",
   "execution_count": 52,
   "metadata": {},
   "outputs": [
    {
     "name": "stdout",
     "output_type": "stream",
     "text": [
      "[1.6, 7.8, 3.7]\n"
     ]
    }
   ],
   "source": [
    "list1.remove(1.9)\n",
    "print(list1)"
   ]
  },
  {
   "cell_type": "markdown",
   "metadata": {},
   "source": [
    "A listákon számos funkció használatát teszi lehetővé alapvetően a Python. Például egy elemhez indexeléssel hozzáférhetünk (esetünkben a 3. elem, Python esetében az indexelés 0-tól kezdődik):"
   ]
  },
  {
   "cell_type": "code",
   "execution_count": 53,
   "metadata": {},
   "outputs": [
    {
     "name": "stdout",
     "output_type": "stream",
     "text": [
      "3.7\n"
     ]
    }
   ],
   "source": [
    "print(list1[2])"
   ]
  },
  {
   "cell_type": "markdown",
   "metadata": {},
   "source": [
    "Egyszerű módon megcserélhető a lista sorrendje, például az alábbi módon:"
   ]
  },
  {
   "cell_type": "code",
   "execution_count": 54,
   "metadata": {},
   "outputs": [
    {
     "name": "stdout",
     "output_type": "stream",
     "text": [
      "[3.7, 7.8, 1.6]\n"
     ]
    }
   ],
   "source": [
    "print(list1[::-1])"
   ]
  },
  {
   "cell_type": "markdown",
   "metadata": {},
   "source": [
    "### Halmazok\n",
    "Szmeben a listákkal a halmazoknak vannak hozzávetőleges tulajdonságai:\n",
    "- Halmazműveletek egyszerűen végezhetőek rajtuk\n",
    "- Egy halmazban egy érték csak egyszer fordulhat elő. Az egyediséget hash-függvényekkel ellenőrzi az adatstruktúra.\n",
    "- Sorrendiséget nem tart.\n",
    "\n",
    "A halmaz előnyös struktúra abból a szempontból, hogy a beletartozás ellenőrzése gyorsabb, mint lista esetén. Épp emiatt azonban óvatósan célszerű használni: a halmaz nem tartja az elemek sorrendjét, és mivel csak egyedi elemek tárolására alkalmas, nem fordulhat elő benne imsétlődő elem, ami bizonyos esetekben korlátozza használatát."
   ]
  },
  {
   "cell_type": "code",
   "execution_count": null,
   "metadata": {},
   "outputs": [],
   "source": []
  }
 ],
 "metadata": {
  "kernelspec": {
   "display_name": "Python 3",
   "language": "python",
   "name": "python3"
  },
  "language_info": {
   "codemirror_mode": {
    "name": "ipython",
    "version": 3
   },
   "file_extension": ".py",
   "mimetype": "text/x-python",
   "name": "python",
   "nbconvert_exporter": "python",
   "pygments_lexer": "ipython3",
   "version": "3.9.5"
  }
 },
 "nbformat": 4,
 "nbformat_minor": 4
}
